{
 "cells": [
  {
   "cell_type": "markdown",
   "metadata": {},
   "source": [
    "# ML Application\n",
    "\n",
    "In this last homework, I would like you to practice the techniques you've learnt from earlier lectures and apply them to solve a real world application. \n",
    "\n",
    "Your first task is to pick a project topic. Pick an application that interests you, and explore how best to apply learning algorithms to solve it. I have some suggested projects below from Kaggle. However, if you've already had something in mind or if you're already working on a research or industry project that machine learning might apply to, then you may already have a great project idea.\n",
    "\n",
    "Once you figure out the topic/application. You need to formulate it into one where you can apply ML. You will ask yourself questions like the following:\n",
    "- What machine learning techniques are you planning to apply or improve upon?\n",
    "- Is it supervised learning or unsupervised learning? Is it a regression problem or a classification one?\n",
    "- What experiments are you planning to run?\n",
    "- How do you quantify success?\n",
    "- How do you avoid overfitting and underfitting?\n",
    "- How do you handle categorical variables?\n",
    "- ... \n",
    "\n",
    "Here are some popular Kaggle challenges. You are welcomed to explore other datasets and projects on Kaggle that might interest you and use those as your final project.\n",
    "- [Credit Card Fraud Detection](https://www.kaggle.com/mlg-ulb/creditcardfraud)\n",
    "- [Product Recommendation](https://www.kaggle.com/c/santander-product-recommendation)\n",
    "- [Predict movie rating and success](https://www.kaggle.com/tmdb/tmdb-movie-metadata/home)\n",
    "- [Predict used var value](https://www.kaggle.com/ddmngml/trying-to-predict-used-car-value)\n",
    "\n",
    "To evaluate one's work, we will grade based on the following criterions:\n",
    "- The technical quality of the work. (i.e., Does the technical material make sense? Are the things tried reasonable? Are the ML algorithms used sound? Do the authors convey novel insight about the problem and/or algorithms?)\n",
    "- Significance. (Did the authors choose an interesting or a “real\" problem to work on, or only a small “toy\" problem? Is this work likely to be useful and/or have impact in real world?)\n",
    "- The novelty of the work. (Is this project applying a common technique to a well-studied problem, or is the problem or method relatively unexplored? Clearly identify the contribution of the work)\n",
    "- Clarity in writing. (Do the authors articulate and clearly identify the findings from the data?)\n"
   ]
  },
  {
   "cell_type": "code",
   "execution_count": null,
   "metadata": {
    "collapsed": true
   },
   "outputs": [],
   "source": [
    "# TODO"
   ]
  }
 ],
 "metadata": {
  "kernelspec": {
   "display_name": "Python 3 [3.6]",
   "language": "python",
   "name": "python3"
  },
  "language_info": {
   "codemirror_mode": {
    "name": "ipython",
    "version": 3
   },
   "file_extension": ".py",
   "mimetype": "text/x-python",
   "name": "python",
   "nbconvert_exporter": "python",
   "pygments_lexer": "ipython3",
   "version": "3.6.4"
  }
 },
 "nbformat": 4,
 "nbformat_minor": 2
}
